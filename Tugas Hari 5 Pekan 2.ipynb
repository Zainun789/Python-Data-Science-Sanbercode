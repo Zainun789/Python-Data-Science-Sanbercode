{
  "nbformat": 4,
  "nbformat_minor": 0,
  "metadata": {
    "colab": {
      "name": "Tugas Hari 5 Pekan 2.ipynb",
      "provenance": [],
      "collapsed_sections": []
    },
    "kernelspec": {
      "name": "python3",
      "display_name": "Python 3"
    },
    "language_info": {
      "name": "python"
    }
  },
  "cells": [
    {
      "cell_type": "markdown",
      "source": [
        "**Soal 1. Data Preparation**\n",
        "\n",
        "Bacalah Dataset dengan memberikan beberapa argumen sehingga bisa membaca datetime"
      ],
      "metadata": {
        "id": "trzFIQkup13B"
      }
    },
    {
      "cell_type": "code",
      "source": [
        "#code here\n"
      ],
      "metadata": {
        "id": "Di567Uo4sT_R"
      },
      "execution_count": null,
      "outputs": []
    },
    {
      "cell_type": "markdown",
      "source": [
        "Expected output:\n",
        "\n",
        "(Gambar hanya sebagian)\n",
        "\n",
        "![alt text](https://drive.google.com/uc?id=1TqrXs9JStRXqiF0NIWiMdo5r8CQ-S74-)"
      ],
      "metadata": {
        "id": "Lyf-Gog3qMQ9"
      }
    },
    {
      "cell_type": "markdown",
      "source": [
        "\n",
        "\n",
        "---\n",
        "\n",
        "\n",
        "\n",
        "---\n",
        "\n"
      ],
      "metadata": {
        "id": "imR2TSA9s0PY"
      }
    },
    {
      "cell_type": "markdown",
      "source": [
        "Soal 2. Selection\n",
        "\n",
        "Tampilkan data keseluruhan untuk tahun 2015 di bulan November"
      ],
      "metadata": {
        "id": "MuIKzSNFcMDb"
      }
    },
    {
      "cell_type": "code",
      "source": [
        "#code here\n"
      ],
      "metadata": {
        "id": "EVupRJadtHMu"
      },
      "execution_count": null,
      "outputs": []
    },
    {
      "cell_type": "markdown",
      "source": [
        "Expected output:\n",
        "\n",
        "(Gambar hanya sebagian)\n",
        "\n",
        "![alt text](https://drive.google.com/uc?id=1ABMLSmdQ817PIdxW1v7rUKelOj_W241g)"
      ],
      "metadata": {
        "id": "gIzlOCBStJnR"
      }
    },
    {
      "cell_type": "markdown",
      "source": [
        "\n",
        "\n",
        "---\n",
        "\n",
        "\n",
        "\n",
        "---\n",
        "\n"
      ],
      "metadata": {
        "id": "M0rqGpB7tcr6"
      }
    },
    {
      "cell_type": "markdown",
      "source": [
        "**Soal 3. Filtering**\n",
        "\n",
        "Tampilkan data perubahan iklim pada 1 bulan terakhir di tahun 2016 dan jawablah pertanyaan berikut:\n",
        "\n",
        "Berapakah rata-rata temperatur tertinggi?"
      ],
      "metadata": {
        "id": "1lW3h2RikXHP"
      }
    },
    {
      "cell_type": "code",
      "source": [
        "#code here"
      ],
      "metadata": {
        "id": "dqvDT9XNt0kM"
      },
      "execution_count": null,
      "outputs": []
    },
    {
      "cell_type": "markdown",
      "source": [
        "Expected output:\n",
        "\n",
        "(Gambar hanya sebagian)\n",
        "\n",
        "![alt text](https://drive.google.com/uc?id=1X2hXsvrRGvqHqtc5BFbVvRXwh5YxBQ_P)"
      ],
      "metadata": {
        "id": "jJIUVhp5t2Mz"
      }
    },
    {
      "cell_type": "markdown",
      "source": [
        "Jawab disini:"
      ],
      "metadata": {
        "id": "rtIlq8BNuKSu"
      }
    },
    {
      "cell_type": "markdown",
      "source": [
        "\n",
        "\n",
        "---\n",
        "\n",
        "\n",
        "\n",
        "---\n",
        "\n"
      ],
      "metadata": {
        "id": "pVsgBq-auexG"
      }
    },
    {
      "cell_type": "markdown",
      "source": [
        "**Soal 4. Time grouping**\n",
        "\n",
        " \n",
        "\n",
        "*   Lakukan grouping data perubahan iklim pada tahun 2016 berdasarkan frekuensi 1 bulan dengan memberikan agregasi max pada kolom meantemp. humidity, wind_speed dan meanpressure!\n",
        "*   Berikan analisa, di bulan apa rata-rata temperatur, humidity, wind_speed dan meanpressure tertinggi?\n",
        "\n",
        "\n",
        "\n"
      ],
      "metadata": {
        "id": "eHleI1gTlOI_"
      }
    },
    {
      "cell_type": "code",
      "source": [
        "#code here\n"
      ],
      "metadata": {
        "id": "3tE-GCrXwH1H"
      },
      "execution_count": null,
      "outputs": []
    },
    {
      "cell_type": "markdown",
      "source": [
        "Expected output:\n",
        "\n",
        "(Gambar hanya sebagian)\n",
        "\n",
        "![alt text](https://drive.google.com/uc?id=1s2Y8Dc3M3xbG-51mTuTmXUFgLvHDvc5Q)"
      ],
      "metadata": {
        "id": "bx-U_jTUwKe6"
      }
    },
    {
      "cell_type": "markdown",
      "source": [
        "Jawab disini:"
      ],
      "metadata": {
        "id": "a_Dw_dikzQBH"
      }
    },
    {
      "cell_type": "markdown",
      "source": [
        "\n",
        "\n",
        "---\n",
        "\n",
        "\n",
        "\n",
        "---\n",
        "\n"
      ],
      "metadata": {
        "id": "cNmZ6Xs4wbnZ"
      }
    },
    {
      "cell_type": "markdown",
      "source": [
        "**Soal 5. Time Differenced**\n",
        "\n",
        "Tunjukkanlah perubahan iklim di tahun 2016 pada minggu terakhir"
      ],
      "metadata": {
        "id": "0bgkY_bEoI5L"
      }
    },
    {
      "cell_type": "code",
      "source": [
        "#code here\n"
      ],
      "metadata": {
        "id": "-Ptsqp-3zLI8"
      },
      "execution_count": null,
      "outputs": []
    },
    {
      "cell_type": "markdown",
      "source": [
        "Expected output:\n",
        "\n",
        "(Gambar hanya sebagian)\n",
        "\n",
        "![alt text](https://drive.google.com/uc?id=1miJBQeGMyUS_G3bwP14Plo4s5950oYy5)"
      ],
      "metadata": {
        "id": "25mlJPqszNvO"
      }
    },
    {
      "cell_type": "markdown",
      "source": [
        "\n",
        "\n",
        "---\n",
        "\n",
        "\n",
        "\n",
        "---\n",
        "\n"
      ],
      "metadata": {
        "id": "tE-cUBzIzkNo"
      }
    }
  ]
}